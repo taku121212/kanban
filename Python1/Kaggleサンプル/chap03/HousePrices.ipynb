{
 "cells": [
  {
   "cell_type": "code",
   "execution_count": null,
   "metadata": {},
   "outputs": [],
   "source": [
    "## このプログラムは「House Prices: Advanced Regression Techniques」\n",
    "## において作成したノートブックにおいて動作します\n",
    "\n",
    "# 訓練データとテストデータをデータフレームに読み込む\n",
    "import pandas as pd\n",
    "train = pd.read_csv(\n",
    "    \"../input/house-prices-advanced-regression-techniques/train.csv\")\n",
    "test = pd.read_csv(\n",
    "    \"../input/house-prices-advanced-regression-techniques/test.csv\")\n",
    "print('train shape:', train.shape) # 訓練データの形状を出力\n",
    "print('test shape:', test.shape)   # テストデータの形状を出力"
   ]
  },
  {
   "cell_type": "code",
   "execution_count": null,
   "metadata": {},
   "outputs": [],
   "source": [
    "# 訓練データの情報を出力\n",
    "train.info()"
   ]
  },
  {
   "cell_type": "code",
   "execution_count": null,
   "metadata": {},
   "outputs": [],
   "source": [
    "import numpy as np\n",
    "import matplotlib.pyplot as plt\n",
    "from scipy.stats import skew\n",
    "%matplotlib inline\n",
    "\n",
    "# SalePriceについて底をeとするa+1の対数に変換し、\n",
    "# 元の値と共にデータフレームに登録MiscVal\n",
    "prices = pd.DataFrame({'price':train['SalePrice'],\n",
    "                       'log(price + 1)':np.log1p(train['SalePrice'])})\n",
    "print(prices, '\\n')\n",
    "# 'price'の対数変換前後の歪度を出力\n",
    "print('price skew       :', skew(prices['price']))\n",
    "print('log(price+1) skew:', skew(prices['log(price + 1)']))\n",
    "\n",
    "# \"SalePrice\"の変換前と変換後をヒストグラムにする\n",
    "# プロット図のサイズを設定\n",
    "plt.rcParams['figure.figsize'] = (12.0, 6.0)\n",
    "prices.hist()"
   ]
  },
  {
   "cell_type": "code",
   "execution_count": null,
   "metadata": {},
   "outputs": [],
   "source": [
    "# SalePriceの値を、底をeとするa+1の対数に変換する\n",
    "train[\"SalePrice\"] = np.log1p(train[\"SalePrice\"])"
   ]
  },
  {
   "cell_type": "code",
   "execution_count": null,
   "metadata": {},
   "outputs": [],
   "source": [
    "# 訓練データとテストデータからMSSubClass～SaleConditionのカラムのみを抽出して連結\n",
    "all_data = pd.concat((train.loc[:,'MSSubClass':'SaleCondition'],\n",
    "                      test.loc[:,'MSSubClass':'SaleCondition']))\n",
    "# 連結したデータを出力\n",
    "all_data"
   ]
  },
  {
   "cell_type": "code",
   "execution_count": null,
   "metadata": {},
   "outputs": [],
   "source": [
    "# 数値型のカラムで歪度が0.75を超える場合は対数変換する\n",
    "\n",
    "from scipy.stats import skew\n",
    "\n",
    "# object型ではないカラムのインデックスを取得\n",
    "numeric_feats = all_data.dtypes[all_data.dtypes != \"object\"].index\n",
    "\n",
    "# object型ではないカラムの歪度を、欠損値を除いてから求める\n",
    "skewed_feats = train[numeric_feats].apply(lambda x: skew(x.dropna()))\n",
    "print('-----Skew Non-object-type-----')\n",
    "print(skewed_feats)\n",
    "\n",
    "# 歪度が0.75より大きいカラムのみをskewed_featsに再代入\n",
    "skewed_feats = skewed_feats[skewed_feats > 0.75]\n",
    "print('-----Skewness greater than 0.75-----')\n",
    "print(skewed_feats)\n",
    "# 抽出したカラムのインデックスを取得\n",
    "skewed_feats = skewed_feats.index\n",
    "\n",
    "# 歪度が0.75より大きいカラムの値を対数変換する\n",
    "all_data[skewed_feats] = np.log1p(all_data[skewed_feats])\n",
    "all_data[skewed_feats] # 歪度が0.75より大きいカラムの対数変換後を出力"
   ]
  },
  {
   "cell_type": "code",
   "execution_count": null,
   "metadata": {},
   "outputs": [],
   "source": [
    "# LotShape(土地の形状)を情報表現（ダミー変数）に変換\n",
    "cc_data = pd.get_dummies(train['LotShape'])\n",
    "# 元の'LotShape'を追加\n",
    "cc_data['LotShape'] = train['LotShape']\n",
    "# 20レコードを出力\n",
    "cc_data[:20]"
   ]
  },
  {
   "cell_type": "code",
   "execution_count": null,
   "metadata": {},
   "outputs": [],
   "source": [
    "# カテゴリカルなカラムを情報表現（ダミー変数）に変換\n",
    "all_data = pd.get_dummies(all_data)"
   ]
  },
  {
   "cell_type": "code",
   "execution_count": null,
   "metadata": {},
   "outputs": [],
   "source": [
    "# 欠損値NaNをそのカラムの平均値に置き換える(平均は訓練データから求める)\n",
    "all_data = all_data.fillna(all_data[:train.shape[0]].mean())"
   ]
  },
  {
   "cell_type": "code",
   "execution_count": null,
   "metadata": {},
   "outputs": [],
   "source": [
    "# 訓練データとテストデータに分ける\n",
    "X_train = all_data[:train.shape[0]]\n",
    "X_test = all_data[train.shape[0]:]\n",
    "y = train.SalePrice"
   ]
  },
  {
   "cell_type": "code",
   "execution_count": null,
   "metadata": {},
   "outputs": [],
   "source": [
    "from sklearn.model_selection import cross_val_score\n",
    "\n",
    "def rmse_cv(model):\n",
    "    \"\"\"二乗平均平方根誤差\n",
    "    \n",
    "    Parameters:\n",
    "      model(obj): Modelオブジェクト\n",
    "    Returns:\n",
    "      (float)訓練データの出力値と正解値とのRMSE\n",
    "    \"\"\"\n",
    "    # クロスバリデーションによる二乗平均平方根誤差の取得\n",
    "    rmse = np.sqrt(\n",
    "        -cross_val_score(\n",
    "            model, X_train, y,\n",
    "            scoring=\"neg_mean_squared_error\", # 平均二乗誤差を指定\n",
    "            cv = 5))                          # データを5分割\n",
    "    return(rmse)"
   ]
  },
  {
   "cell_type": "code",
   "execution_count": null,
   "metadata": {},
   "outputs": [],
   "source": [
    "from sklearn.linear_model import Ridge\n",
    "\n",
    "# リッジ回帰モデルを生成\n",
    "model_ridge = Ridge()\n",
    "\n",
    "# L2正則化の強度を10パターン用意\n",
    "alphas = [0.05, 0.1, 0.5, 1, 5, 10, 15, 30, 50, 75]\n",
    "# 正則化の各強度でリッジ回帰を実行\n",
    "# 5分割のクロスバリデーションでRMSEを求め、その平均を取得\n",
    "cv_ridge = [rmse_cv(Ridge(alpha = alpha)).mean() \n",
    "            for alpha in alphas]\n",
    "\n",
    "# cv_ridgeをSeriesオブジェクトに変換\n",
    "cv_ridge = pd.Series(cv_ridge, index = alphas)\n",
    "# スコアを出力\n",
    "print('Ridge RMSE loss:')\n",
    "print(cv_ridge, '\\n')\n",
    "# スコアの平均を出力\n",
    "print('Ridge RMSE loss Mean:')\n",
    "print(cv_ridge.mean())\n",
    "\n",
    "# 正則化の強度別のスコアをグラフにする\n",
    "plt.ﬁgure(ﬁgsize=(10, 5)) # 描画エリアのサイズ\n",
    "plt.plot(cv_ridge)        # cv_ridgeをプロット\n",
    "plt.grid()                # グリッド表示\n",
    "plt.title('Validation - by regularization strength')\n",
    "plt.xlabel('Alpha')\n",
    "plt.ylabel('RMSE')\n",
    "plt.show()"
   ]
  },
  {
   "cell_type": "code",
   "execution_count": null,
   "metadata": {},
   "outputs": [],
   "source": [
    "from sklearn.linear_model import LassoCV\n",
    "\n",
    "# ラッソ回帰モデルで推定する\n",
    "# L1正則化項を4パターンで試す\n",
    "model_lasso = LassoCV(\n",
    "    alphas = [1, 0.1, 0.001, 0.0005]).fit(X_train, y)\n",
    "\n",
    "print('Lasso regression RMSE loss:')                # クロスバリデーションによる\n",
    "print(rmse_cv(model_lasso))                         # RMSEを出力\n",
    "\n",
    "print('Average loss:', rmse_cv(model_lasso).mean()) # RMSEの平均を出力\n",
    "print('Minimum loss:', rmse_cv(model_lasso).min())  # RMSEの最小値を出力\n",
    "print('Best alpha  :', model_lasso.alpha_)          # 採用されたalpha値を出力"
   ]
  },
  {
   "cell_type": "code",
   "execution_count": null,
   "metadata": {},
   "outputs": [],
   "source": [
    "import xgboost as xgb\n",
    "\n",
    "dtrain = xgb.DMatrix(X_train, label = y)\n",
    "#dtest = xgb.DMatrix(X_test)\n",
    "\n",
    "# 決定木の深さ3、学習率0.1\n",
    "params = {\"max_depth\":3, \"eta\":0.1}\n",
    "# xgboostモデルでクロスバリデーションを実行\n",
    "cross_val = xgb.cv(\n",
    "    params,\n",
    "    dtrain,\n",
    "    num_boost_round=1000,     # 決定木の本数\n",
    "    early_stopping_rounds=50) # アーリーストッピングの監視回数\n",
    "cross_val"
   ]
  },
  {
   "cell_type": "code",
   "execution_count": null,
   "metadata": {},
   "outputs": [],
   "source": [
    "# 30回以降の検証データと訓練データのRMSEをグラフにする\n",
    "plt.ﬁgure(ﬁgsize=(8, 6)) # 描画エリアのサイズ\n",
    "plt.plot(cross_val.loc[30:,[\"test-rmse-mean\", \"train-rmse-mean\"]])\n",
    "plt.grid()               # グリッド表示\n",
    "plt.xlabel('num_boost_round')\n",
    "plt.ylabel('RMSE')\n",
    "plt.show()"
   ]
  },
  {
   "cell_type": "code",
   "execution_count": null,
   "metadata": {},
   "outputs": [],
   "source": [
    "# xgboostで学習する\n",
    "model_xgb = xgb.XGBRegressor(\n",
    "    n_estimators=410,  # 決定木の本数\n",
    "    max_depth=3,       # 決定木の深さ\n",
    "    learning_rate=0.1) # 学習率0.1\n",
    "model_xgb.fit(X_train, y)\n",
    "\n",
    "print('xgboost RMSE loss:')\n",
    "print(rmse_cv(model_xgb).mean())"
   ]
  },
  {
   "cell_type": "code",
   "execution_count": null,
   "metadata": {},
   "outputs": [],
   "source": [
    "lasso_preds = np.expm1(model_lasso.predict(X_test))\n",
    "xgb_preds = np.expm1(model_xgb.predict(X_test))"
   ]
  },
  {
   "cell_type": "code",
   "execution_count": null,
   "metadata": {},
   "outputs": [],
   "source": [
    "preds = lasso_preds*0.7 + xgb_preds*0.3"
   ]
  },
  {
   "cell_type": "code",
   "execution_count": null,
   "metadata": {},
   "outputs": [],
   "source": [
    "solution = pd.DataFrame({\"id\":test.Id, \"SalePrice\":preds})\n",
    "solution.to_csv(\"ridge_sol.csv\", index = False)"
   ]
  }
 ],
 "metadata": {
  "kernelspec": {
   "display_name": "Python 3",
   "language": "python",
   "name": "python3"
  },
  "language_info": {
   "codemirror_mode": {
    "name": "ipython",
    "version": 3
   },
   "file_extension": ".py",
   "mimetype": "text/x-python",
   "name": "python",
   "nbconvert_exporter": "python",
   "pygments_lexer": "ipython3",
   "version": "3.7.7"
  }
 },
 "nbformat": 4,
 "nbformat_minor": 4
}
