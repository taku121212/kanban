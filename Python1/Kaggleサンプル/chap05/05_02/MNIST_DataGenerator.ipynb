{
 "cells": [
  {
   "cell_type": "code",
   "execution_count": null,
   "metadata": {},
   "outputs": [],
   "source": [
    "## このプログラムは「Digit Recognizer」\n",
    "## において作成したノートブックにおいて動作します\n",
    "\n",
    "%matplotlib inline\n",
    "import matplotlib.pyplot as plt\n",
    "\n",
    "def draw(X):\n",
    "    '''描画を行う関数\n",
    "    \n",
    "       X: (28, 28, 1)の形状をした画像データのリスト\n",
    "    '''\n",
    "    plt.figure(figsize=(8, 8)) # 描画エリアは8×8インチ\n",
    "    pos = 1                    # 画像の描画位置を保持\n",
    "    \n",
    "    # 画像の枚数だけ描画処理を繰り返す\n",
    "    for i in range(X.shape[0]):\n",
    "        plt.subplot(4, 4, pos) # 4×4の描画領域のpos番目の位置\n",
    "        # インデックスiの画像を(28,28)の形状に変換して描画\n",
    "        plt.imshow(X[i].reshape((28,28)),interpolation='nearest')\n",
    "        plt.axis('off')        # 軸目盛は非表示\n",
    "        pos += 1\n",
    "    plt.show()"
   ]
  },
  {
   "cell_type": "code",
   "execution_count": null,
   "metadata": {},
   "outputs": [],
   "source": [
    "# データを用意する\n",
    "\n",
    "import numpy as np\n",
    "import pandas as pd\n",
    "from sklearn.model_selection import KFold\n",
    "from tensorflow.keras.utils import to_categorical\n",
    "\n",
    "# train.csvを読み込んでpandasのDataFrameに格納\n",
    "train = pd.read_csv('/kaggle/input/digit-recognizer/train.csv')\n",
    "tr_x = train.drop(['label'], axis=1) # trainから画像データを抽出\n",
    "train_y = train['label']             # trainから正解ラベルを抽出\n",
    "\n",
    "# 画像のピクセル値を255.0で割って0～1.0の範囲にしてnumpy.arrayに変換\n",
    "tr_x = np.array(tr_x / 255.0)\n",
    "\n",
    "# 画像データの2階テンソルを\n",
    "# (高さ = 28px, 幅 = 28px , チャンネル = 1)の\n",
    "# 3階テンソルに変換\n",
    "# グレースケールのためチャンネルは1\n",
    "tr_x = tr_x.reshape(-1,28,28,1)\n",
    "\n",
    "# 正解ラベルをone-hot表現に変換\n",
    "tr_y = to_categorical(train_y, 10)\n",
    "\n",
    "# テストで使用する画像の枚数\n",
    "batch_size = 16"
   ]
  },
  {
   "cell_type": "code",
   "execution_count": null,
   "metadata": {},
   "outputs": [],
   "source": [
    "# オリジナルの画像を表示\n",
    "draw(tr_x[0:batch_size])"
   ]
  },
  {
   "cell_type": "code",
   "execution_count": null,
   "metadata": {},
   "outputs": [],
   "source": [
    "# ImageDataGeneratorのインポート\n",
    "from tensorflow.keras.preprocessing.image import ImageDataGenerator\n",
    "\n",
    "# 回転処理　最大90度\n",
    "datagen = ImageDataGenerator(rotation_range=90)\n",
    "g = datagen.flow(           # バッチサイズの数だけ拡張データを作成\n",
    "    tr_x, tr_y, batch_size, shuffle=False)\n",
    "X_batch, y_batch = g.next() # 拡張データをリストに格納\n",
    "draw(X_batch)               # 描画"
   ]
  },
  {
   "cell_type": "code",
   "execution_count": null,
   "metadata": {},
   "outputs": [],
   "source": [
    "# 平行移動　最大0.5\n",
    "datagen = ImageDataGenerator(width_shift_range=0.5)\n",
    "g = datagen.flow(           # バッチサイズの数だけ拡張データを作成\n",
    "    tr_x, tr_y, batch_size, shuffle=False)\n",
    "X_batch, y_batch = g.next() # 拡張データをリストに格納\n",
    "draw(X_batch)               # 描画"
   ]
  },
  {
   "cell_type": "code",
   "execution_count": null,
   "metadata": {},
   "outputs": [],
   "source": [
    "# 垂直移動　最大0.5\n",
    "datagen = ImageDataGenerator(height_shift_range=0.5)\n",
    "g = datagen.flow(           # バッチサイズの数だけ拡張データを作成\n",
    "    tr_x, tr_y, batch_size, shuffle=False)\n",
    "X_batch, y_batch = g.next() # 拡張データをリストに格納\n",
    "draw(X_batch)               # 描画"
   ]
  },
  {
   "cell_type": "code",
   "execution_count": null,
   "metadata": {},
   "outputs": [],
   "source": [
    "# ランダムに拡大　最大0.5\n",
    "datagen = ImageDataGenerator(zoom_range=0.5)\n",
    "g = datagen.flow(           # バッチサイズの数だけ拡張データを作成\n",
    "    tr_x, tr_y, batch_size, shuffle=False)\n",
    "X_batch, y_batch = g.next() # 拡張データをリストに格納\n",
    "draw(X_batch)               # 描画"
   ]
  },
  {
   "cell_type": "code",
   "execution_count": null,
   "metadata": {},
   "outputs": [],
   "source": [
    "# 左右をランダムに反転\n",
    "datagen = ImageDataGenerator(horizontal_flip=True)\n",
    "g = datagen.flow(           # バッチサイズの数だけ拡張データを作成\n",
    "    tr_x, tr_y, batch_size, shuffle=False)\n",
    "X_batch, y_batch = g.next() # 拡張データをリストに格納\n",
    "draw(X_batch)               # 描画"
   ]
  },
  {
   "cell_type": "code",
   "execution_count": null,
   "metadata": {},
   "outputs": [],
   "source": [
    "# 上下をランダムに反転\n",
    "datagen = ImageDataGenerator(vertical_flip=True)\n",
    "g = datagen.flow(           # バッチサイズの数だけ拡張データを作成\n",
    "    tr_x, tr_y, batch_size, shuffle=False)\n",
    "X_batch, y_batch = g.next() # 拡張データをリストに格納\n",
    "draw(X_batch)               # 描画"
   ]
  }
 ],
 "metadata": {
  "kernelspec": {
   "display_name": "Python 3",
   "language": "python",
   "name": "python3"
  },
  "language_info": {
   "codemirror_mode": {
    "name": "ipython",
    "version": 3
   },
   "file_extension": ".py",
   "mimetype": "text/x-python",
   "name": "python",
   "nbconvert_exporter": "python",
   "pygments_lexer": "ipython3",
   "version": "3.7.7"
  }
 },
 "nbformat": 4,
 "nbformat_minor": 4
}
