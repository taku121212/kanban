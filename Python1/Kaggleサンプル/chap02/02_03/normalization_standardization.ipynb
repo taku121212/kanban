{
 "cells": [
  {
   "cell_type": "code",
   "execution_count": 1,
   "metadata": {},
   "outputs": [
    {
     "name": "stdout",
     "output_type": "stream",
     "text": [
      "[  0   0   0   0   0   0   0   0   0   0   0   0   3  18  18  18 126 136\n",
      " 175  26 166 255 247 127   0   0   0   0]\n"
     ]
    }
   ],
   "source": [
    "# MNISTデータセットをインポート\n",
    "from tensorflow.keras.datasets import mnist\n",
    "# MNISTデータセットをNumPy配列に読み込む\n",
    "(x_train, y_train), (x_test, y_test) = mnist.load_data()\n",
    "# 1番目の画像の6行目のデータを出力\n",
    "print(x_train[0][5])"
   ]
  },
  {
   "cell_type": "code",
   "execution_count": 2,
   "metadata": {},
   "outputs": [
    {
     "data": {
      "text/plain": [
       "array([0.        , 0.        , 0.        , 0.        , 0.        ,\n",
       "       0.        , 0.        , 0.        , 0.        , 0.        ,\n",
       "       0.        , 0.        , 0.01176471, 0.07058824, 0.07058824,\n",
       "       0.07058824, 0.49411765, 0.53333333, 0.68627451, 0.10196078,\n",
       "       0.65098039, 1.        , 0.96862745, 0.49803922, 0.        ,\n",
       "       0.        , 0.        , 0.        ])"
      ]
     },
     "execution_count": 2,
     "metadata": {},
     "output_type": "execute_result"
    }
   ],
   "source": [
    "# 訓練データを正規化して1番目の画像の6行目のデータを出力\n",
    "(x_train/255.0)[0][5]"
   ]
  },
  {
   "cell_type": "code",
   "execution_count": 3,
   "metadata": {},
   "outputs": [
    {
     "data": {
      "text/plain": [
       "array([-0.42407389, -0.42407389, -0.42407389, -0.42407389, -0.42407389,\n",
       "       -0.42407389, -0.42407389, -0.42407389, -0.42407389, -0.42407389,\n",
       "       -0.42407389, -0.42407389, -0.38589016, -0.1949715 , -0.1949715 ,\n",
       "       -0.1949715 ,  1.17964286,  1.30692197,  1.80331049, -0.09314822,\n",
       "        1.68875929,  2.82154335,  2.71972006,  1.19237077, -0.42407389,\n",
       "       -0.42407389, -0.42407389, -0.42407389])"
      ]
     },
     "execution_count": 3,
     "metadata": {},
     "output_type": "execute_result"
    }
   ],
   "source": [
    "# 訓練データを正規化して1番目の画像の6行目のデータを出力\n",
    "import numpy as np\n",
    "xmean = x_train.mean()       # 平均を求める\n",
    "xstd  = np.std(x_train)      # 標準偏差を求める\n",
    "# 訓練データを標準化して1番目の画像の6行目のデータを出力\n",
    "((x_train-xmean)/xstd)[0][5]"
   ]
  },
  {
   "cell_type": "code",
   "execution_count": null,
   "metadata": {},
   "outputs": [],
   "source": []
  }
 ],
 "metadata": {
  "kernelspec": {
   "display_name": "Python 3",
   "language": "python",
   "name": "python3"
  },
  "language_info": {
   "codemirror_mode": {
    "name": "ipython",
    "version": 3
   },
   "file_extension": ".py",
   "mimetype": "text/x-python",
   "name": "python",
   "nbconvert_exporter": "python",
   "pygments_lexer": "ipython3",
   "version": "3.7.7"
  }
 },
 "nbformat": 4,
 "nbformat_minor": 4
}
