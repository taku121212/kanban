{
 "cells": [
  {
   "cell_type": "code",
   "execution_count": 11,
   "metadata": {},
   "outputs": [],
   "source": [
    "import numpy as np\n",
    "from sklearn.metrics import mean_squared_error\n",
    "\n",
    "# RMSE関数\n",
    "def rmse(y_true, y_pred):\n",
    "    return np.sqrt(mean_squared_error(y_true, y_pred))\n",
    "# RMSLE関数\n",
    "def rmsle(y_true: np.ndarray, y_pred: np.ndarray):\n",
    "    rmsle = mean_squared_error(np.log1p(y_true), np.log1p(y_pred))\n",
    "    return np.sqrt(rmsle)"
   ]
  },
  {
   "cell_type": "code",
   "execution_count": 12,
   "metadata": {},
   "outputs": [
    {
     "name": "stdout",
     "output_type": "stream",
     "text": [
      "RMSE\n",
      "400.0\n",
      "400.0\n",
      "--------------------\n",
      "RMSLE\n",
      "0.3361867670217862\n",
      "0.5101598447800129\n"
     ]
    }
   ],
   "source": [
    "# ---データを準備\n",
    "y_true = np.array([1000, 1000])      # 正解値\n",
    "y_pred_low = np.array([600, 600])    # 予測値(正解値よりも小さい)\n",
    "y_pred_high = np.array([1400, 1400]) # 予測値(正解値よりも大きい)\n",
    "\n",
    "# RMSEを出力\n",
    "print('RMSE')\n",
    "print(rmse(y_true, y_pred_high))\n",
    "print(rmse(y_true, y_pred_low))\n",
    "\n",
    "print('--------------------')\n",
    "\n",
    "# RMSLEを出力\n",
    "print('RMSLE')\n",
    "print(rmsle(y_true, y_pred_high))\n",
    "print(rmsle(y_true, y_pred_low))"
   ]
  },
  {
   "cell_type": "code",
   "execution_count": 13,
   "metadata": {},
   "outputs": [
    {
     "name": "stdout",
     "output_type": "stream",
     "text": [
      "RMSLE: 0.40513205231824134\n",
      "RMSLE: 0.004987491760291007\n"
     ]
    }
   ],
   "source": [
    "y_true = np.array([1000, 1000])\n",
    "y_pred = np.array([1500, 1500])\n",
    "print(f'RMSLE: {rmsle(y_true, y_pred)}')\n",
    "\n",
    "y_true = np.array([100000, 100000])\n",
    "y_pred = np.array([100500, 100500])\n",
    "print(f'RMSLE: {rmsle(y_true, y_pred)}')"
   ]
  },
  {
   "cell_type": "code",
   "execution_count": null,
   "metadata": {},
   "outputs": [],
   "source": []
  }
 ],
 "metadata": {
  "kernelspec": {
   "display_name": "Python 3",
   "language": "python",
   "name": "python3"
  },
  "language_info": {
   "codemirror_mode": {
    "name": "ipython",
    "version": 3
   },
   "file_extension": ".py",
   "mimetype": "text/x-python",
   "name": "python",
   "nbconvert_exporter": "python",
   "pygments_lexer": "ipython3",
   "version": "3.7.7"
  }
 },
 "nbformat": 4,
 "nbformat_minor": 4
}
