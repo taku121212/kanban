{
 "cells": [
  {
   "cell_type": "code",
   "execution_count": 4,
   "metadata": {},
   "outputs": [
    {
     "name": "stdout",
     "output_type": "stream",
     "text": [
      "Mean-F1 : 0.43333333333333335\n",
      "Macro-F1: 0.48888888888888893\n",
      "Micro-F1: 0.5454545454545454\n"
     ]
    }
   ],
   "source": [
    "import numpy as np\n",
    "from sklearn.metrics import f1_score\n",
    "\n",
    "# [[クラス1の正解],[クラス2の正解],[クラス3の正解]\n",
    "y_true = np.array([[1, 2], [1], [1, 2, 3]])\n",
    "# 正解値をon-hotエンコーディング\n",
    "y_true = np.array([[1, 1, 0],\n",
    "                   [1, 0, 0],\n",
    "                   [1, 1, 1]])\n",
    "\n",
    "# [[クラス1の予測],[クラス2の予測],[クラス3の予測]\n",
    "y_pred = np.array([[1, 3], [2], [1, 3]])\n",
    "# 予測値をon-hotエンコーディング\n",
    "y_pred = np.array([[1, 0, 1],\n",
    "                   [0, 1, 0],\n",
    "                   [1, 0, 1]])\n",
    "print('Mean-F1 :', f1_score(y_true, y_pred, average='samples'))\n",
    "print('Macro-F1:', f1_score(y_true, y_pred, average='macro'))\n",
    "print('Micro-F1:', f1_score(y_true, y_pred, average='micro'))"
   ]
  },
  {
   "cell_type": "code",
   "execution_count": null,
   "metadata": {},
   "outputs": [],
   "source": []
  }
 ],
 "metadata": {
  "kernelspec": {
   "display_name": "Python 3",
   "language": "python",
   "name": "python3"
  },
  "language_info": {
   "codemirror_mode": {
    "name": "ipython",
    "version": 3
   },
   "file_extension": ".py",
   "mimetype": "text/x-python",
   "name": "python",
   "nbconvert_exporter": "python",
   "pygments_lexer": "ipython3",
   "version": "3.7.7"
  }
 },
 "nbformat": 4,
 "nbformat_minor": 4
}
