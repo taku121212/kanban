{
 "cells": [
  {
   "cell_type": "code",
   "execution_count": null,
   "metadata": {},
   "outputs": [],
   "source": [
    "## このプログラムは「Digit Recognizer」\n",
    "## において作成したノートブックにおいて動作します\n",
    "\n",
    "import numpy as np # linear algebra\n",
    "import pandas as pd # data processing, CSV file I/O (e.g. pd.read_csv)\n",
    "\n",
    "# Input data files are available in the \"../input/\" directory.\n",
    "# For example, running this (by clicking run or pressing Shift+Enter) will list all files under the input directory\n",
    "\n",
    "import os\n",
    "for dirname, _, filenames in os.walk('/kaggle/input'):\n",
    "    for filename in filenames:\n",
    "        print(os.path.join(dirname, filename))"
   ]
  },
  {
   "cell_type": "code",
   "execution_count": null,
   "metadata": {},
   "outputs": [],
   "source": [
    "# train.csvをpandasのDataFrameに読み込んで中身を表示。\n",
    "train = pd.read_csv('/kaggle/input/digit-recognizer/train.csv')\n",
    "train"
   ]
  },
  {
   "cell_type": "code",
   "execution_count": null,
   "metadata": {},
   "outputs": [],
   "source": [
    "import numpy as np\n",
    "import pandas as pd\n",
    "from tensorflow.keras.utils import to_categorical\n",
    "from sklearn.model_selection import KFold\n",
    "\n",
    "# train.csvを読み込んでpandasのDataFrameに格納。\n",
    "train = pd.read_csv('/kaggle/input/digit-recognizer/train.csv')\n",
    "# trainから画像データを抽出してDataFrameオブジェクトに格納。\n",
    "train_x = train.drop(['label'], axis=1)\n",
    "# trainから正解ラベルを抽出してSeriesオブジェクトに格納。\n",
    "train_y = train['label'] \n",
    "# test.csvを読み込んでpandasのDataFrameに格納。\n",
    "test_x = pd.read_csv('/kaggle/input/digit-recognizer/test.csv')\n",
    "\n",
    "# trainのデータを4分割し、訓練用に3、バリデーション用に1の割合で配分する。\n",
    "kf = KFold(n_splits=4, shuffle=True, random_state=123)\n",
    "# 訓練用とバリデーション用のレコードのインデックス配列を取得。\n",
    "tr_idx, va_idx = list(kf.split(train_x))[0]\n",
    "# 訓練とバリデーション用の画像データと正解ラベルをそれぞれ取得。\n",
    "tr_x, va_x = train_x.iloc[tr_idx], train_x.iloc[va_idx]\n",
    "tr_y, va_y = train_y.iloc[tr_idx], train_y.iloc[va_idx]\n",
    "\n",
    "# 画像のピクセル値を255.0で割って0～1.0の範囲にしてnumpy.arrayに変換。\n",
    "tr_x, va_x = np.array(tr_x / 255.0), np.array(va_x / 255.0)\n",
    "\n",
    "# 正解ラベルをOne-Hot表現に変換。\n",
    "tr_y = to_categorical(tr_y, 10) # numpy.ndarrayオブジェクト\n",
    "va_y = to_categorical(va_y, 10) # numpy.ndarrayオブジェクト\n",
    "\n",
    "# x_train、y_train、x_testの形状を出力。\n",
    "print(tr_x.shape)\n",
    "print(tr_y.shape)\n",
    "print(va_x.shape)\n",
    "print(va_y.shape)"
   ]
  },
  {
   "cell_type": "code",
   "execution_count": null,
   "metadata": {},
   "outputs": [],
   "source": [
    "from collections import Counter\n",
    "\n",
    "# 0～9の各数字の枚数を調べる。\n",
    "count = Counter(train['label'])\n",
    "count"
   ]
  },
  {
   "cell_type": "code",
   "execution_count": null,
   "metadata": {},
   "outputs": [],
   "source": [
    "import seaborn as sns\n",
    "\n",
    "# 0～9の各数字の枚数をグラフにする。\n",
    "sns.countplot(train['label'])"
   ]
  },
  {
   "cell_type": "code",
   "execution_count": null,
   "metadata": {},
   "outputs": [],
   "source": [
    "# 訓練データの1番目の要素を出力。\n",
    "print(tr_x[0])"
   ]
  },
  {
   "cell_type": "code",
   "execution_count": null,
   "metadata": {},
   "outputs": [],
   "source": [
    "import matplotlib.pyplot as plt\n",
    "%matplotlib inline\n",
    "\n",
    "# 訓練データから50枚抽出してプロットする。\n",
    "plt.figure(figsize=(12,10))\n",
    "x, y = 10, 5 # 10列5行で出力。\n",
    "for i in range(50):  \n",
    "    plt.subplot(y, x, i+1)\n",
    "    # 28×28にリサイズして描画する。\n",
    "    plt.imshow(tr_x[i].reshape((28,28)),interpolation='nearest')\n",
    "plt.show()"
   ]
  },
  {
   "cell_type": "code",
   "execution_count": null,
   "metadata": {},
   "outputs": [],
   "source": [
    "# ニューラルネットワークの構築\n",
    "\n",
    "# keras.modelsからSequentialをインポート\n",
    "from tensorflow.keras.models import Sequential\n",
    "# keras.layersからDense、Activationをインポート\n",
    "from tensorflow.keras.layers import Dense, Activation\n",
    "\n",
    "# Sequentialオブジェクトを生成。\n",
    "model = Sequential()\n",
    "\n",
    "# 第1層(隠れ層)\n",
    "model.add(Dense(\n",
    "    128,                     # ユニット数は128。\n",
    "    input_dim=tr_x.shape[1], # 入力データの形状を指定。\n",
    "    activation='sigmoid'     # 活性化関数はSigmoid。\n",
    "))\n",
    "\n",
    "# 第2層(出力層)\n",
    "model.add(Dense(\n",
    "    10,                  # ニューロン数はクラスの数と同数の10。\n",
    "    activation='softmax' # マルチクラス分類に適したSoftmaxを指定。\n",
    "))\n",
    "\n",
    "model.compile(\n",
    "    # 損失関数はクロスエントロピー誤差関数。\n",
    "    loss='categorical_crossentropy',\n",
    "    # オプティマイザーはAdam。\n",
    "    optimizer='adam',\n",
    "    # 学習評価として正解率を指定。\n",
    "    metrics=['accuracy'])\n",
    "\n",
    "# モデルの構造を出力。\n",
    "model.summary()"
   ]
  },
  {
   "cell_type": "code",
   "execution_count": null,
   "metadata": {},
   "outputs": [],
   "source": [
    "# 学習を行う。\n",
    "result = model.fit(tr_x, tr_y,                   # 訓練データと正解ラベル。\n",
    "                   epochs=5,                     # 学習回数を5回にする。\n",
    "                   batch_size=100,               # ミニバッチのサイズは100。\n",
    "                   validation_data=(va_x, va_y), # 検証用のデータを指定。\n",
    "                   verbose=1)                    # 学習の進捗を出力。"
   ]
  },
  {
   "cell_type": "code",
   "execution_count": null,
   "metadata": {},
   "outputs": [],
   "source": [
    "# テストデータで予測して結果をNumPy配列に代入する。\n",
    "result = model.predict(test_x)"
   ]
  },
  {
   "cell_type": "code",
   "execution_count": null,
   "metadata": {},
   "outputs": [],
   "source": [
    "# 予測結果の確認とOne-Hotエンコーディングから数値への置き換え。\n",
    "\n",
    "# 予測結果の先頭から5番目までを出力。\n",
    "print(result[:5])\n",
    "# 最大値のインデックス(予測した数字)を出力。\n",
    "print([x.argmax() for x in result[:5]])\n",
    "# 予測した数字をNumPy配列に代入する。\n",
    "y_test = [x.argmax() for x in result]"
   ]
  },
  {
   "cell_type": "code",
   "execution_count": null,
   "metadata": {},
   "outputs": [],
   "source": [
    "# 提出用のCSVファイルをデータフレームに読み込む。\n",
    "submit_df = pd.read_csv('/kaggle/input/digit-recognizer/sample_submission.csv')\n",
    "# 先頭から5行目までを出力。\n",
    "submit_df.head()"
   ]
  },
  {
   "cell_type": "code",
   "execution_count": null,
   "metadata": {},
   "outputs": [],
   "source": [
    "# データフレームのLabel行に予測値を格納する。\n",
    "submit_df['Label'] = y_test\n",
    "# 先頭から5行目までを出力。\n",
    "submit_df.head()"
   ]
  },
  {
   "cell_type": "code",
   "execution_count": null,
   "metadata": {},
   "outputs": [],
   "source": [
    "# データフレームの内容を提出用のCSVファイルに書き込む。\n",
    "submit_df.to_csv('submission.csv', index=False)"
   ]
  }
 ],
 "metadata": {
  "kernelspec": {
   "display_name": "Python 3",
   "language": "python",
   "name": "python3"
  },
  "language_info": {
   "codemirror_mode": {
    "name": "ipython",
    "version": 3
   },
   "file_extension": ".py",
   "mimetype": "text/x-python",
   "name": "python",
   "nbconvert_exporter": "python",
   "pygments_lexer": "ipython3",
   "version": "3.7.7"
  }
 },
 "nbformat": 4,
 "nbformat_minor": 4
}
