{
 "cells": [
  {
   "cell_type": "code",
   "execution_count": 1,
   "id": "4ab928d5",
   "metadata": {},
   "outputs": [],
   "source": [
    "%matplotlib inline\n",
    "\n",
    "import numpy as np\n",
    "import pandas as pd\n",
    "import matplotlib.pyplot as plt\n",
    "from PIL import Image"
   ]
  },
  {
   "cell_type": "code",
   "execution_count": 2,
   "id": "007a8600",
   "metadata": {},
   "outputs": [
    {
     "name": "stderr",
     "output_type": "stream",
     "text": [
      "/Library/Frameworks/Python.framework/Versions/3.10/lib/python3.10/site-packages/chainer/_environment_check.py:33: UserWarning: Accelerate has been detected as a NumPy backend library.\n",
      "vecLib, which is a part of Accelerate, is known not to work correctly with Chainer.\n",
      "We recommend using other BLAS libraries such as OpenBLAS.\n",
      "For details of the issue, please see\n",
      "https://docs.chainer.org/en/stable/tips.html#mnist-example-does-not-converge-in-cpu-mode-on-mac-os-x.\n",
      "\n",
      "Please be aware that Mac OS X is not an officially supported OS.\n",
      "\n",
      "  warnings.warn('''\\\n"
     ]
    }
   ],
   "source": [
    "from chainer.datasets import LabeledImageDataset\n",
    "from chainercv.transforms import resize\n",
    "from chainer.datasets import TransformDataset"
   ]
  },
  {
   "cell_type": "code",
   "execution_count": 3,
   "id": "54627724",
   "metadata": {},
   "outputs": [],
   "source": [
    "def transform(in_data):\n",
    "    # LabeledImageDatasetを活用してデータを読み込む前提なので画像とラベルに分離して取得\n",
    "    img, label = in_data\n",
    "    # 画像データを224×224に変換する\n",
    "    img = resize(img, (224, 224))\n",
    "    # 変換後の画像データとラベルをセットで返却する\n",
    "    return img, label\n",
    "\n"
   ]
  },
  {
   "cell_type": "code",
   "execution_count": 4,
   "id": "b2e1c4c2",
   "metadata": {},
   "outputs": [
    {
     "ename": "FileNotFoundError",
     "evalue": "[Errno 2] No such file or directory: 'data/train/train_labels.txt'",
     "output_type": "error",
     "traceback": [
      "\u001b[0;31m---------------------------------------------------------------------------\u001b[0m",
      "\u001b[0;31mFileNotFoundError\u001b[0m                         Traceback (most recent call last)",
      "Input \u001b[0;32mIn [4]\u001b[0m, in \u001b[0;36m<cell line: 1>\u001b[0;34m()\u001b[0m\n\u001b[0;32m----> 1\u001b[0m train \u001b[38;5;241m=\u001b[39m \u001b[43mLabeledImageDataset\u001b[49m\u001b[43m(\u001b[49m\u001b[38;5;124;43m'\u001b[39;49m\u001b[38;5;124;43mdata/train/train_labels.txt\u001b[39;49m\u001b[38;5;124;43m'\u001b[39;49m\u001b[43m,\u001b[49m\u001b[43m \u001b[49m\u001b[38;5;124;43m'\u001b[39;49m\u001b[38;5;124;43mdata/train/images\u001b[39;49m\u001b[38;5;124;43m'\u001b[39;49m\u001b[43m)\u001b[49m\n\u001b[1;32m      2\u001b[0m train \u001b[38;5;241m=\u001b[39m TransformDataset(train, transform)\n\u001b[1;32m      4\u001b[0m valid \u001b[38;5;241m=\u001b[39m LabeledImageDataset(\u001b[38;5;124m'\u001b[39m\u001b[38;5;124mdata/valid/valid_labels.txt\u001b[39m\u001b[38;5;124m'\u001b[39m, \u001b[38;5;124m'\u001b[39m\u001b[38;5;124mdata/valid/images\u001b[39m\u001b[38;5;124m'\u001b[39m)\n",
      "File \u001b[0;32m/Library/Frameworks/Python.framework/Versions/3.10/lib/python3.10/site-packages/chainer/datasets/image_dataset.py:140\u001b[0m, in \u001b[0;36mLabeledImageDataset.__init__\u001b[0;34m(self, pairs, root, dtype, label_dtype)\u001b[0m\n\u001b[1;32m    138\u001b[0m \u001b[38;5;28;01mif\u001b[39;00m \u001b[38;5;28misinstance\u001b[39m(pairs, six\u001b[38;5;241m.\u001b[39mstring_types):\n\u001b[1;32m    139\u001b[0m     pairs_path \u001b[38;5;241m=\u001b[39m pairs\n\u001b[0;32m--> 140\u001b[0m     \u001b[38;5;28;01mwith\u001b[39;00m \u001b[38;5;28;43mopen\u001b[39;49m\u001b[43m(\u001b[49m\u001b[43mpairs_path\u001b[49m\u001b[43m)\u001b[49m \u001b[38;5;28;01mas\u001b[39;00m pairs_file:\n\u001b[1;32m    141\u001b[0m         pairs \u001b[38;5;241m=\u001b[39m []\n\u001b[1;32m    142\u001b[0m         \u001b[38;5;28;01mfor\u001b[39;00m i, line \u001b[38;5;129;01min\u001b[39;00m \u001b[38;5;28menumerate\u001b[39m(pairs_file):\n",
      "\u001b[0;31mFileNotFoundError\u001b[0m: [Errno 2] No such file or directory: 'data/train/train_labels.txt'"
     ]
    }
   ],
   "source": [
    "train = LabeledImageDataset('data/train/train_labels.txt', 'data/train/images')\n",
    "train = TransformDataset(train, transform)\n",
    "\n",
    "valid = LabeledImageDataset('data/valid/valid_labels.txt', 'data/valid/images')\n",
    "valid = TransformDataset(valid, transform)\n",
    "\n"
   ]
  },
  {
   "cell_type": "code",
   "execution_count": null,
   "id": "78865cf4",
   "metadata": {},
   "outputs": [],
   "source": []
  }
 ],
 "metadata": {
  "kernelspec": {
   "display_name": "Python 3 (ipykernel)",
   "language": "python",
   "name": "python3"
  },
  "language_info": {
   "codemirror_mode": {
    "name": "ipython",
    "version": 3
   },
   "file_extension": ".py",
   "mimetype": "text/x-python",
   "name": "python",
   "nbconvert_exporter": "python",
   "pygments_lexer": "ipython3",
   "version": "3.10.4"
  }
 },
 "nbformat": 4,
 "nbformat_minor": 5
}
